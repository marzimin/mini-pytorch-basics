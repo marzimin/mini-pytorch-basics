{
 "metadata": {
  "language_info": {
   "codemirror_mode": {
    "name": "ipython",
    "version": 3
   },
   "file_extension": ".py",
   "mimetype": "text/x-python",
   "name": "python",
   "nbconvert_exporter": "python",
   "pygments_lexer": "ipython3",
   "version": "3.8.2-final"
  },
  "orig_nbformat": 2,
  "kernelspec": {
   "name": "python3",
   "display_name": "Python 3.8.2 64-bit ('base': conda)",
   "metadata": {
    "interpreter": {
     "hash": "95c39475b8540e982fce18acfb8d1e013e44fd81fccbc16e8f909803a8743f42"
    }
   }
  }
 },
 "nbformat": 4,
 "nbformat_minor": 2,
 "cells": [
  {
   "source": [
    "# PyTorch Tutorial\n",
    "\n",
    "- Notes from a [YT Tutorial](https://www.youtube.com/watch?v=GIsg-ZUy0MY)\n",
    "- learn the basics and PyTorch's implementation of a linear regression here"
   ],
   "cell_type": "markdown",
   "metadata": {}
  },
  {
   "cell_type": "code",
   "execution_count": 4,
   "metadata": {},
   "outputs": [],
   "source": [
    "import numpy as np\n",
    "import pandas as pd\n",
    "import matplotlib.pyplot as plt\n",
    "import seaborn as sns\n",
    "import torch\n",
    "import torchvision\n",
    "from torchvision import transforms, datasets"
   ]
  },
  {
   "source": [
    "## 0. Basics - Tensors & Gradients\n",
    "\n",
    "- Remember that Tensors are like scalars, vectors, or matrices\n",
    "- They are floats in an n by n dimensional array"
   ],
   "cell_type": "markdown",
   "metadata": {}
  },
  {
   "cell_type": "code",
   "execution_count": 5,
   "metadata": {},
   "outputs": [
    {
     "output_type": "stream",
     "name": "stdout",
     "text": [
      "tensor([10,  6]) \n\ntensor([[ 7.,  8.],\n        [ 9., 10.],\n        [11., 12.]])\n"
     ]
    }
   ],
   "source": [
    "# like NumPy arrays\n",
    "\n",
    "t0 = torch.tensor(3) # Scalar\n",
    "t1 = torch.tensor([5, 3]) \n",
    "t2 = torch.tensor([2, 2])\n",
    "t3 = torch.tensor([[5., 6], [7, 8], [9, 10]]) # Matrix\n",
    "\n",
    "print(t1*t2, '\\n') # elemement by element multiplication (5 * 2), (3 * 1)\n",
    "print(t2+t3) # also element by element addition"
   ]
  },
  {
   "cell_type": "code",
   "execution_count": 6,
   "metadata": {},
   "outputs": [
    {
     "output_type": "execute_result",
     "data": {
      "text/plain": [
       "tensor([[[11., 12., 13.],\n",
       "         [13., 14., 15.]],\n",
       "\n",
       "        [[15., 16., 17.],\n",
       "         [17., 18., 19.]]])"
      ]
     },
     "metadata": {},
     "execution_count": 6
    }
   ],
   "source": [
    "# 3-dimensional array\n",
    "t4 = torch.tensor([\n",
    "    [[11, 12, 13], \n",
    "     [13, 14, 15]], \n",
    "    [[15, 16, 17], \n",
    "     [17, 18, 19.]]])\n",
    "t4"
   ]
  },
  {
   "cell_type": "code",
   "execution_count": 7,
   "metadata": {},
   "outputs": [
    {
     "output_type": "execute_result",
     "data": {
      "text/plain": [
       "(torch.Size([]), torch.Size([2]), torch.Size([2]))"
      ]
     },
     "metadata": {},
     "execution_count": 7
    }
   ],
   "source": [
    "t0.shape, t1.shape, t2.shape # for z 3 rows, 2 columns"
   ]
  },
  {
   "cell_type": "code",
   "execution_count": 8,
   "metadata": {},
   "outputs": [
    {
     "output_type": "execute_result",
     "data": {
      "text/plain": [
       "torch.float32"
      ]
     },
     "metadata": {},
     "execution_count": 8
    }
   ],
   "source": [
    "t3.dtype # A float type"
   ]
  },
  {
   "source": [
    "### Tensor operations & Gradients\n",
    "\n",
    "We can combine tensors with the usual arithmetic operations.\n",
    "\n",
    "- Note:\n",
    "`torch.tensor` infers the dtype automatically, while `torch.Tensor` returns a torch.FloatTensor.\n",
    "I would recommend to stick to `torch.tensor`, which also has arguments like dtype, if you would like to change the type."
   ],
   "cell_type": "markdown",
   "metadata": {}
  },
  {
   "cell_type": "code",
   "execution_count": 9,
   "metadata": {},
   "outputs": [
    {
     "output_type": "execute_result",
     "data": {
      "text/plain": [
       "(tensor(3), tensor(4., requires_grad=True), tensor(5., requires_grad=True))"
      ]
     },
     "metadata": {},
     "execution_count": 9
    }
   ],
   "source": [
    "# Create tensors\n",
    "x = torch.tensor(3)\n",
    "w = torch.tensor(4., requires_grad=True) # this is to allow for optimization and calculating derivatives (gradient = derivative)\n",
    "b = torch.tensor(5., requires_grad=True)\n",
    "x, w, b"
   ]
  },
  {
   "cell_type": "code",
   "execution_count": 10,
   "metadata": {},
   "outputs": [
    {
     "output_type": "execute_result",
     "data": {
      "text/plain": [
       "tensor(17., grad_fn=<AddBackward0>)"
      ]
     },
     "metadata": {},
     "execution_count": 10
    }
   ],
   "source": [
    "# Arithmetic operations\n",
    "y = w * x + b \n",
    "y"
   ]
  },
  {
   "source": [
    "As expected, y is a tensor with the value 3 * 4 + 5 = 17. What makes PyTorch unique is that we can automatically compute the derivative of y w.r.t. the tensors that have requires_grad set to True i.e. w and b. This feature of PyTorch is called autograd (automatic gradients).\n",
    "To compute the derivatives, we can invoke the .backward method on our result y."
   ],
   "cell_type": "markdown",
   "metadata": {}
  },
  {
   "cell_type": "code",
   "execution_count": 11,
   "metadata": {},
   "outputs": [],
   "source": [
    "# Compute derivatives\n",
    "y.backward()"
   ]
  },
  {
   "cell_type": "code",
   "execution_count": 12,
   "metadata": {},
   "outputs": [
    {
     "output_type": "stream",
     "name": "stdout",
     "text": [
      "dy/dx: None\ndy/dw: tensor(3.)\ndy/db: tensor(1.)\n"
     ]
    }
   ],
   "source": [
    "# Display gradients (differentiation)\n",
    "# y = w * x + b\n",
    "#  dy/dw = w dropped, b reduced to 0, x remains\n",
    "#  dy/db = b dropped, as well as w*x, so 1 remains\n",
    "\n",
    "print('dy/dx:', x.grad) # No gradient\n",
    "print('dy/dw:', w.grad)\n",
    "print('dy/db:', b.grad)"
   ]
  },
  {
   "source": [
    "As expected, dy/dw has the same value as x, i.e., 3, and dy/db has the value 1. Note that x.grad is None because x doesn't have requires_grad set to True.\n",
    "The \"grad\" in w.grad is short for gradient, which is another term for derivative. The term gradient is primarily used while dealing with vectors and matrices."
   ],
   "cell_type": "markdown",
   "metadata": {}
  },
  {
   "source": [
    "### Tensor functions\n",
    "\n",
    "Apart from arithmetic operations, the torch module also contains many functions for creating and manipulating tensors. Let's look at some examples."
   ],
   "cell_type": "markdown",
   "metadata": {}
  },
  {
   "cell_type": "code",
   "execution_count": 13,
   "metadata": {},
   "outputs": [
    {
     "output_type": "stream",
     "name": "stdout",
     "text": [
      "tensor([[0.0310, 0.3794, 0.2847, 0.4553, 0.3774],\n        [0.4007, 0.3795, 0.4146, 0.2424, 0.3370]])\n"
     ]
    }
   ],
   "source": [
    "y = torch.rand([2, 5]) # for random numbers, 2 'rows', 5 'columns'\n",
    "print(y)"
   ]
  },
  {
   "cell_type": "code",
   "execution_count": 14,
   "metadata": {},
   "outputs": [
    {
     "output_type": "execute_result",
     "data": {
      "text/plain": [
       "tensor([[0.0310, 0.3794, 0.2847, 0.4553, 0.3774, 0.4007, 0.3795, 0.4146, 0.2424,\n",
       "         0.3370]])"
      ]
     },
     "metadata": {},
     "execution_count": 14
    }
   ],
   "source": [
    "# Flattens the tensor (provided you set 1 by n elements (10 in this case))\n",
    "\n",
    "y.view([1, 10]) # important to fit in the model\n",
    "y = y.view([1, 10]) # saves it in place\n",
    "y"
   ]
  },
  {
   "cell_type": "code",
   "execution_count": 15,
   "metadata": {},
   "outputs": [
    {
     "output_type": "execute_result",
     "data": {
      "text/plain": [
       "tensor([[ 5.,  6.],\n",
       "        [ 7.,  8.],\n",
       "        [ 9., 10.]])"
      ]
     },
     "metadata": {},
     "execution_count": 15
    }
   ],
   "source": [
    "t3"
   ]
  },
  {
   "cell_type": "code",
   "execution_count": 16,
   "metadata": {},
   "outputs": [
    {
     "output_type": "execute_result",
     "data": {
      "text/plain": [
       "tensor([[42, 42],\n",
       "        [42, 42],\n",
       "        [42, 42]])"
      ]
     },
     "metadata": {},
     "execution_count": 16
    }
   ],
   "source": [
    "# Create a tensor with a fixed value for every element\n",
    "t6 = torch.full((3, 2), 42)\n",
    "t6"
   ]
  },
  {
   "cell_type": "code",
   "execution_count": 17,
   "metadata": {},
   "outputs": [
    {
     "output_type": "execute_result",
     "data": {
      "text/plain": [
       "tensor([[ 5.,  6.],\n",
       "        [ 7.,  8.],\n",
       "        [ 9., 10.],\n",
       "        [42., 42.],\n",
       "        [42., 42.],\n",
       "        [42., 42.]])"
      ]
     },
     "metadata": {},
     "execution_count": 17
    }
   ],
   "source": [
    "# Concatenate two tensors with compatible shapes\n",
    "\n",
    "t7 = torch.cat((t3, t6))\n",
    "t7"
   ]
  },
  {
   "cell_type": "code",
   "execution_count": 18,
   "metadata": {},
   "outputs": [
    {
     "output_type": "execute_result",
     "data": {
      "text/plain": [
       "tensor([[-0.9589, -0.2794],\n",
       "        [ 0.6570,  0.9894],\n",
       "        [ 0.4121, -0.5440],\n",
       "        [-0.9165, -0.9165],\n",
       "        [-0.9165, -0.9165],\n",
       "        [-0.9165, -0.9165]])"
      ]
     },
     "metadata": {},
     "execution_count": 18
    }
   ],
   "source": [
    "# Compute the sin of each element\n",
    "t8 = torch.sin(t7)\n",
    "t8"
   ]
  },
  {
   "cell_type": "code",
   "execution_count": 19,
   "metadata": {},
   "outputs": [
    {
     "output_type": "execute_result",
     "data": {
      "text/plain": [
       "tensor([[[-0.9589, -0.2794],\n",
       "         [ 0.6570,  0.9894]],\n",
       "\n",
       "        [[ 0.4121, -0.5440],\n",
       "         [-0.9165, -0.9165]],\n",
       "\n",
       "        [[-0.9165, -0.9165],\n",
       "         [-0.9165, -0.9165]]])"
      ]
     },
     "metadata": {},
     "execution_count": 19
    }
   ],
   "source": [
    "# Change the shape of a tensor\n",
    "t9 = t8.reshape(3, 2, 2)\n",
    "t9"
   ]
  },
  {
   "cell_type": "code",
   "execution_count": 20,
   "metadata": {},
   "outputs": [
    {
     "output_type": "execute_result",
     "data": {
      "text/plain": [
       "array([[1, 2],\n",
       "       [3, 4]])"
      ]
     },
     "metadata": {},
     "execution_count": 20
    }
   ],
   "source": [
    "x = np.array([[1, 2], [3, 4]]) # Remember the double brackets\n",
    "x"
   ]
  },
  {
   "cell_type": "code",
   "execution_count": 21,
   "metadata": {},
   "outputs": [
    {
     "output_type": "execute_result",
     "data": {
      "text/plain": [
       "tensor([[1, 2],\n",
       "        [3, 4]])"
      ]
     },
     "metadata": {},
     "execution_count": 21
    }
   ],
   "source": [
    "# Convert the numpy array to a torch tensor.\n",
    "y = torch.from_numpy(x)\n",
    "y"
   ]
  },
  {
   "cell_type": "code",
   "execution_count": 22,
   "metadata": {},
   "outputs": [
    {
     "output_type": "stream",
     "name": "stdout",
     "text": [
      "<class 'numpy.ndarray'> <class 'torch.Tensor'> \n\nint64 torch.int64\n"
     ]
    }
   ],
   "source": [
    "print(type(x), type(y), '\\n')\n",
    "print(x.dtype, y.dtype)"
   ]
  },
  {
   "cell_type": "code",
   "execution_count": 23,
   "metadata": {},
   "outputs": [
    {
     "output_type": "execute_result",
     "data": {
      "text/plain": [
       "array([[1, 2],\n",
       "       [3, 4]])"
      ]
     },
     "metadata": {},
     "execution_count": 23
    }
   ],
   "source": [
    "# Convert back to a np array\n",
    "z = y.numpy()\n",
    "z"
   ]
  },
  {
   "source": [
    "## 1. Linear Regression with PyTorch (and Gradient Descent)\n",
    "\n",
    "In this tutorial, we'll discuss one of the foundational algorithms in machine learning: Linear regression. We'll create a model that predicts crop yields for apples and oranges (target variables) by looking at the average temperature, rainfall, and humidity (input variables or features) in a region. Here's the training data:"
   ],
   "cell_type": "markdown",
   "metadata": {}
  },
  {
   "cell_type": "code",
   "execution_count": 24,
   "metadata": {},
   "outputs": [],
   "source": [
    "# Let's use some simple self-generated data\n",
    "# temperature (C), rainfall (mm), humidity (%) (n rows, 3 columns)\n",
    "\n",
    "temperature = torch.randint(5, 45, [50, 1]) # Create columns\n",
    "rainfall = torch.randint(40, 150, [50, 1])\n",
    "humidity = torch.randint(30, 70, [50, 1])"
   ]
  },
  {
   "cell_type": "code",
   "execution_count": 25,
   "metadata": {},
   "outputs": [
    {
     "output_type": "execute_result",
     "data": {
      "text/plain": [
       "tensor([[ 13,  87,  37],\n",
       "        [ 16, 121,  30],\n",
       "        [ 32,  94,  44],\n",
       "        [ 24, 112,  58],\n",
       "        [ 17,  52,  47]])"
      ]
     },
     "metadata": {},
     "execution_count": 25
    }
   ],
   "source": [
    "inputs = torch.cat((temperature, rainfall, humidity), 1) # Add columns\n",
    "inputs[:5]"
   ]
  },
  {
   "cell_type": "code",
   "execution_count": 26,
   "metadata": {},
   "outputs": [
    {
     "output_type": "execute_result",
     "data": {
      "text/plain": [
       "torch.int64"
      ]
     },
     "metadata": {},
     "execution_count": 26
    }
   ],
   "source": [
    "inputs.dtype"
   ]
  },
  {
   "source": [
    "LongTensor is synonymous with integer. PyTorch won't accept a FloatTensor as categorical target, so it's telling you to cast your tensor to LongTensor. This is how you should change your target dtype:\n",
    "\n"
   ],
   "cell_type": "markdown",
   "metadata": {}
  },
  {
   "cell_type": "code",
   "execution_count": 27,
   "metadata": {},
   "outputs": [],
   "source": [
    "inputs = inputs.type(torch.FloatTensor)"
   ]
  },
  {
   "cell_type": "code",
   "execution_count": 28,
   "metadata": {},
   "outputs": [
    {
     "output_type": "execute_result",
     "data": {
      "text/plain": [
       "tensor([[ 89,  57],\n",
       "        [ 63, 143],\n",
       "        [100,  38],\n",
       "        [106,  77],\n",
       "        [ 33,  74]])"
      ]
     },
     "metadata": {},
     "execution_count": 28
    }
   ],
   "source": [
    "# The same for your target outputs\n",
    "# If using direct torch method, be wary of differentiating between LongTensor and FloatTensor\n",
    "\n",
    "apples = torch.randint(20, 120, [50, 1])\n",
    "oranges = torch.randint(35, 150, [50, 1])\n",
    "\n",
    "targets = torch.cat((apples, oranges), 1)\n",
    "targets[:5]"
   ]
  },
  {
   "source": [
    "In a linear regression model, each target variable is estimated to be a weighted sum of the input variables, offset by some constant, known as a bias :\n",
    "- yield_apple  = w11 * temp + w12 * rainfall + w13 * humidity + b1\n",
    "- yield_orange = w21 * temp + w22 * rainfall + w23 * humidity + b2\n",
    "\n",
    "- Think of wn = coefficient, and b1/b2 = intercept"
   ],
   "cell_type": "markdown",
   "metadata": {}
  },
  {
   "cell_type": "code",
   "execution_count": 29,
   "metadata": {},
   "outputs": [
    {
     "output_type": "stream",
     "name": "stdout",
     "text": [
      "tensor([[-0.0597,  1.4826,  1.2079],\n        [-0.7456, -0.6224, -0.4537]], requires_grad=True)\ntensor([1.4415, 1.7054], requires_grad=True)\n"
     ]
    }
   ],
   "source": [
    "# Weights and biases (randn allows randomized numbers between -1, 1, mean 0, stdev 1)\n",
    "# Make sure inputs, weights and biases are consistent = FloatTensor or LongTensor (integer)\n",
    "\n",
    "w = torch.randn(2, 3, requires_grad=True).type(torch.FloatTensor) # 2 targets (apples, oranges), 3 features\n",
    "b = torch.randn(2, requires_grad=True).type(torch.FloatTensor) # 2 intercepts\n",
    "print(w)\n",
    "print(b)"
   ]
  },
  {
   "cell_type": "code",
   "execution_count": 30,
   "metadata": {},
   "outputs": [],
   "source": [
    "# Create a manual model:\n",
    "# @ represents matrix multiplication in PyTorch, and the .t method returns the transpose of a tensor.\n",
    "# The matrix obtained by passing the input data into the model is a set of predictions for the target variables.\n",
    "\n",
    "def linreg(x):\n",
    "    return x @ w.t() + b "
   ]
  },
  {
   "cell_type": "code",
   "execution_count": 31,
   "metadata": {},
   "outputs": [
    {
     "output_type": "stream",
     "name": "stdout",
     "text": [
      "tensor([[ 174.3432,  -78.9229],\n        [ 216.1175,  -99.1460],\n        [ 192.0431, -100.6227],\n        [ 236.1173, -112.2122],\n        [ 134.2924,  -64.6580],\n        [ 140.9667,  -70.9395],\n        [ 139.3103,  -64.3227],\n        [ 231.2651, -112.9376],\n        [ 191.7912, -106.2322],\n        [ 180.2758,  -89.7309]], grad_fn=<SliceBackward>)\n"
     ]
    }
   ],
   "source": [
    "# Generate predictions\n",
    "# This is an extremely shit model (- apples & oranges?)\n",
    "\n",
    "preds = linreg(inputs)\n",
    "print(preds[:10])"
   ]
  },
  {
   "source": [
    "### Loss function\n",
    "\n",
    "Before we improve our model, we need a way to evaluate how well our model is performing. We can compare the model's predictions with the actual targets using the following method:\n",
    "- Calculate the difference between the two matrices (preds and targets).\n",
    "- Square all elements of the difference matrix to remove negative values.\n",
    "- Calculate the average of the elements in the resulting matrix.\n",
    "\n",
    "\n",
    "The result is a single number, known as the mean squared error (MSE)."
   ],
   "cell_type": "markdown",
   "metadata": {}
  },
  {
   "cell_type": "code",
   "execution_count": 32,
   "metadata": {},
   "outputs": [
    {
     "output_type": "execute_result",
     "data": {
      "text/plain": [
       "tensor([[  85.3432, -135.9229],\n",
       "        [ 153.1175, -242.1460],\n",
       "        [  92.0431, -138.6227],\n",
       "        [ 130.1173, -189.2122],\n",
       "        [ 101.2924, -138.6580],\n",
       "        [ 103.9667, -131.9395],\n",
       "        [ 116.3103, -212.3227],\n",
       "        [ 149.2651, -235.9376],\n",
       "        [  86.7912, -197.2322],\n",
       "        [  98.2758, -189.7309]], grad_fn=<SliceBackward>)"
      ]
     },
     "metadata": {},
     "execution_count": 32
    }
   ],
   "source": [
    "diff = preds - targets\n",
    "diff[:10]"
   ]
  },
  {
   "cell_type": "code",
   "execution_count": 33,
   "metadata": {},
   "outputs": [],
   "source": [
    "# MSE\n",
    "def mse(t1, t2):\n",
    "    diff = t1 - t2\n",
    "    return torch.sum(diff * diff) / diff.numel() # .numel returns the number of elements in a tensor"
   ]
  },
  {
   "cell_type": "code",
   "execution_count": 34,
   "metadata": {},
   "outputs": [
    {
     "output_type": "stream",
     "name": "stdout",
     "text": [
      "tensor(28447.0957, grad_fn=<DivBackward0>)\n"
     ]
    }
   ],
   "source": [
    "# Compute loss - you want this to be as low as possible\n",
    "loss = mse(preds, targets)\n",
    "print(loss)"
   ]
  },
  {
   "source": [
    "### Compute Gradients\n",
    "\n",
    "- With PyTorch, we can automatically compute the gradient or derivative of the loss w.r.t. to the weights and biases because they have requires_grad set to True."
   ],
   "cell_type": "markdown",
   "metadata": {}
  },
  {
   "cell_type": "code",
   "execution_count": 35,
   "metadata": {},
   "outputs": [],
   "source": [
    "# Compute gradients\n",
    "loss.backward()"
   ]
  },
  {
   "source": [
    "The gradients are stored in the .grad property of the respective tensors. Note that the derivative of the loss w.r.t. the weights matrix is itself a matrix with the same dimensions."
   ],
   "cell_type": "markdown",
   "metadata": {}
  },
  {
   "cell_type": "code",
   "execution_count": 36,
   "metadata": {},
   "outputs": [
    {
     "output_type": "stream",
     "name": "stdout",
     "text": [
      "tensor([[-0.0597,  1.4826,  1.2079],\n        [-0.7456, -0.6224, -0.4537]], requires_grad=True)\ntensor([[  2871.0332,  12735.9453,   6386.1592],\n        [ -4614.7373, -17992.8672,  -9587.8135]]) \n\ntensor([1.4415, 1.7054], requires_grad=True)\ntensor([ 125.8641, -190.9120])\n"
     ]
    }
   ],
   "source": [
    "# Gradients for weights & biases\n",
    "# The loss is a quadratic function of our weights and biases, and our objective is to find the set of weights where the loss is the lowest.\n",
    "\n",
    "print(w)\n",
    "print(w.grad, \"\\n\")\n",
    "print(b)\n",
    "print(b.grad)"
   ]
  },
  {
   "source": [
    "As the gradients in both b & w are negative, we want to optimize this by increasing their values, and vice versa if the reverse"
   ],
   "cell_type": "markdown",
   "metadata": {}
  },
  {
   "source": [
    "We multiply the gradients with a very small number (10^-5 in this case) to ensure that we don't modify the weights by a very large amount.\n",
    "\n",
    "We want to take a small step in the downhill direction of the gradient, not a giant leap. This number is called the learning rate of the algorithm.\n",
    "\n",
    "\n",
    "We use `torch.no_grad` to indicate to PyTorch that we shouldn't track, calculate, or modify gradients while updating the weights and biases."
   ],
   "cell_type": "markdown",
   "metadata": {}
  },
  {
   "cell_type": "code",
   "execution_count": 37,
   "metadata": {},
   "outputs": [],
   "source": [
    "# Adjust weights & reset gradients:\n",
    "with torch.no_grad():\n",
    "    w -= w.grad * 1e-5\n",
    "    b -= b.grad * 1e-5\n",
    "    w.grad.zero_()\n",
    "    b.grad.zero_()"
   ]
  },
  {
   "cell_type": "code",
   "execution_count": 38,
   "metadata": {},
   "outputs": [
    {
     "output_type": "stream",
     "name": "stdout",
     "text": [
      "tensor([[-0.0884,  1.3552,  1.1440],\n        [-0.6995, -0.4425, -0.3578]], requires_grad=True)\ntensor([[0., 0., 0.],\n        [0., 0., 0.]]) \n\ntensor([1.4403, 1.7073], requires_grad=True)\ntensor([0., 0.])\n"
     ]
    }
   ],
   "source": [
    "# They all should be lower now\n",
    "print(w)\n",
    "print(w.grad, \"\\n\")\n",
    "print(b)\n",
    "print(b.grad)"
   ]
  },
  {
   "cell_type": "code",
   "execution_count": 39,
   "metadata": {},
   "outputs": [],
   "source": [
    "preds2 = linreg(inputs)"
   ]
  },
  {
   "cell_type": "code",
   "execution_count": 40,
   "metadata": {},
   "outputs": [
    {
     "output_type": "stream",
     "name": "stdout",
     "text": [
      "tensor(22354.4004, grad_fn=<DivBackward0>)\n"
     ]
    }
   ],
   "source": [
    "# Let's verify that the loss is actually lower\n",
    "loss = mse(preds2, targets)\n",
    "print(loss)"
   ]
  },
  {
   "source": [
    "### Train the model using gradient descent\n",
    "As seen above, we reduce the loss and improve our model using the gradient descent optimization algorithm. Thus, we can train the model using the following steps:\n",
    "- Generate predictions\n",
    "- Calculate the loss\n",
    "- Compute gradients w.r.t the weights and biases\n",
    "- Adjust the weights by subtracting a small quantity proportional to the gradient\n",
    "- Reset the gradients to zero"
   ],
   "cell_type": "markdown",
   "metadata": {}
  },
  {
   "cell_type": "code",
   "execution_count": 41,
   "metadata": {},
   "outputs": [
    {
     "output_type": "stream",
     "name": "stdout",
     "text": [
      "tensor([[  2500.8784,  11215.8789,   5606.4473],\n        [ -4081.2861, -15807.6426,  -8464.7686]])\ntensor([ 110.3893, -168.6348])\n"
     ]
    }
   ],
   "source": [
    "# Compute gradients\n",
    "loss.backward()\n",
    "print(w.grad)\n",
    "print(b.grad)"
   ]
  },
  {
   "cell_type": "code",
   "execution_count": 42,
   "metadata": {},
   "outputs": [],
   "source": [
    "# Adjust weights & reset gradients\n",
    "with torch.no_grad():\n",
    "    w -= w.grad * 1e-5\n",
    "    b -= b.grad * 1e-5\n",
    "    w.grad.zero_()\n",
    "    b.grad.zero_()"
   ]
  },
  {
   "cell_type": "code",
   "execution_count": 43,
   "metadata": {},
   "outputs": [
    {
     "output_type": "stream",
     "name": "stdout",
     "text": [
      "tensor([[-0.1134,  1.2431,  1.0879],\n        [-0.6587, -0.2844, -0.2731]], requires_grad=True)\ntensor([1.4392, 1.7090], requires_grad=True)\n"
     ]
    }
   ],
   "source": [
    "print(w)\n",
    "print(b)"
   ]
  },
  {
   "cell_type": "code",
   "execution_count": 44,
   "metadata": {},
   "outputs": [
    {
     "output_type": "stream",
     "name": "stdout",
     "text": [
      "tensor(17638.9023, grad_fn=<DivBackward0>)\n"
     ]
    }
   ],
   "source": [
    "# Calculate loss\n",
    "preds3 = linreg(inputs)\n",
    "loss = mse(preds3, targets)\n",
    "print(loss)"
   ]
  },
  {
   "source": [
    "### Train for multiple epochs\n",
    "To reduce the loss further, we can repeat the process of adjusting the weights and biases using the gradients multiple times. Each iteration is called an epoch. Let's train the model for 100 epochs."
   ],
   "cell_type": "markdown",
   "metadata": {}
  },
  {
   "cell_type": "code",
   "execution_count": 45,
   "metadata": {},
   "outputs": [],
   "source": [
    "# Train for 100 epochs\n",
    "# You can rerun this and calculate loss\n",
    "for i in range(1000):\n",
    "    preds = linreg(inputs)\n",
    "    loss = mse(preds, targets)\n",
    "    loss.backward()\n",
    "    with torch.no_grad():\n",
    "        w -= w.grad * 1e-5 # The learning rate, keep this number very small\n",
    "        b -= b.grad * 1e-5\n",
    "        w.grad.zero_()\n",
    "        b.grad.zero_()"
   ]
  },
  {
   "cell_type": "code",
   "execution_count": 46,
   "metadata": {},
   "outputs": [
    {
     "output_type": "stream",
     "name": "stdout",
     "text": [
      "tensor(1147.0916, grad_fn=<DivBackward0>)\n"
     ]
    }
   ],
   "source": [
    "# Calculate loss\n",
    "preds = linreg(inputs)\n",
    "loss = mse(preds, targets)\n",
    "print(loss)"
   ]
  },
  {
   "cell_type": "code",
   "execution_count": 47,
   "metadata": {},
   "outputs": [
    {
     "output_type": "execute_result",
     "data": {
      "text/plain": [
       "tensor([[ 50.4503,  75.0393],\n",
       "        [ 51.9040,  81.5913],\n",
       "        [ 70.5128,  90.8103],\n",
       "        [ 77.6444, 108.8123],\n",
       "        [ 56.2272,  73.3960],\n",
       "        [ 65.0160,  81.6422],\n",
       "        [ 46.0013,  64.9196],\n",
       "        [ 84.0145, 113.1495],\n",
       "        [ 71.7592,  88.9563],\n",
       "        [ 60.9973,  82.3617]], grad_fn=<SliceBackward>)"
      ]
     },
     "metadata": {},
     "execution_count": 47
    }
   ],
   "source": [
    "preds[:10]"
   ]
  },
  {
   "cell_type": "code",
   "execution_count": 48,
   "metadata": {},
   "outputs": [
    {
     "output_type": "execute_result",
     "data": {
      "text/plain": [
       "tensor([[ 89,  57],\n",
       "        [ 63, 143],\n",
       "        [100,  38],\n",
       "        [106,  77],\n",
       "        [ 33,  74],\n",
       "        [ 37,  61],\n",
       "        [ 23, 148],\n",
       "        [ 82, 123],\n",
       "        [105,  91],\n",
       "        [ 82, 100]])"
      ]
     },
     "metadata": {},
     "execution_count": 48
    }
   ],
   "source": [
    "targets[:10]"
   ]
  },
  {
   "source": [
    "#### The more conventional built-in method\n",
    "\n",
    "We've implemented linear regression & gradient descent model using some basic tensor operations. However, since this is a common pattern in deep learning, PyTorch provides several built-in functions and classes to make it easy to create and train models with just a few lines of code.\n",
    "\n",
    "\n",
    "Let's begin by importing the `torch.nn` package from PyTorch, which contains utility classes for building neural networks."
   ],
   "cell_type": "markdown",
   "metadata": {}
  },
  {
   "cell_type": "code",
   "execution_count": 49,
   "metadata": {},
   "outputs": [],
   "source": [
    "import torch.nn as nn"
   ]
  },
  {
   "cell_type": "code",
   "execution_count": 50,
   "metadata": {},
   "outputs": [],
   "source": [
    "# Use new inputs and targets (with numpy, then conversion this time)"
   ]
  },
  {
   "cell_type": "code",
   "execution_count": 51,
   "metadata": {},
   "outputs": [],
   "source": [
    "temp = np.random.randint(5, 45, [50, 1])\n",
    "rain = np.random.randint(40, 150, [50, 1])\n",
    "humid = np.random.randint(30, 70, [50, 1])"
   ]
  },
  {
   "cell_type": "code",
   "execution_count": 52,
   "metadata": {},
   "outputs": [
    {
     "output_type": "execute_result",
     "data": {
      "text/plain": [
       "array([[ 30, 127,  46],\n",
       "       [ 31,  99,  58],\n",
       "       [ 33,  90,  61],\n",
       "       [ 40,  48,  51],\n",
       "       [ 43,  57,  32]])"
      ]
     },
     "metadata": {},
     "execution_count": 52
    }
   ],
   "source": [
    "inputs = np.append(temp, np.append(rain, humid, axis=1), axis=1)\n",
    "inputs[:5]"
   ]
  },
  {
   "cell_type": "code",
   "execution_count": 53,
   "metadata": {},
   "outputs": [
    {
     "output_type": "execute_result",
     "data": {
      "text/plain": [
       "array([[ 93,  53],\n",
       "       [ 37,  75],\n",
       "       [ 54,  66],\n",
       "       [106,  80],\n",
       "       [ 94,  63]])"
      ]
     },
     "metadata": {},
     "execution_count": 53
    }
   ],
   "source": [
    "apples = np.random.randint(20, 120, [50, 1])\n",
    "oranges = np.random.randint(35, 150, [50, 1])\n",
    "\n",
    "targets = np.append(apples, oranges, axis=1)\n",
    "targets[:5]"
   ]
  },
  {
   "cell_type": "code",
   "execution_count": 54,
   "metadata": {},
   "outputs": [],
   "source": [
    "inputs = torch.from_numpy(inputs)\n",
    "targets = torch.from_numpy(targets)"
   ]
  },
  {
   "cell_type": "code",
   "execution_count": 55,
   "metadata": {},
   "outputs": [],
   "source": [
    "inputs = inputs.type(torch.FloatTensor)\n",
    "targets = targets.type(torch.FloatTensor)"
   ]
  },
  {
   "source": [
    "### Dataset and DataLoader\n",
    "We'll create a TensorDataset, which allows access to rows from inputs and targets as tuples, and provides standard APIs for working with many different types of datasets in PyTorch."
   ],
   "cell_type": "markdown",
   "metadata": {}
  },
  {
   "cell_type": "code",
   "execution_count": 56,
   "metadata": {},
   "outputs": [],
   "source": [
    "from torch.utils.data import TensorDataset"
   ]
  },
  {
   "cell_type": "code",
   "execution_count": 57,
   "metadata": {},
   "outputs": [
    {
     "output_type": "execute_result",
     "data": {
      "text/plain": [
       "(tensor([[ 30., 127.,  46.],\n",
       "         [ 31.,  99.,  58.],\n",
       "         [ 33.,  90.,  61.]]),\n",
       " tensor([[93., 53.],\n",
       "         [37., 75.],\n",
       "         [54., 66.]]))"
      ]
     },
     "metadata": {},
     "execution_count": 57
    }
   ],
   "source": [
    "# Define and preprocess dataset\n",
    "train_ds = TensorDataset(inputs, targets)\n",
    "train_ds[0:3]"
   ]
  },
  {
   "source": [
    "The TensorDataset allows us to access a small section of the training data using the array indexing notation ([0:3] in the above code). It returns a tuple with two elements. The first element contains the input variables for the selected rows, and the second contains the targets.\n",
    "\n",
    "\n",
    "We'll also create a DataLoader, which can split the data into batches of a predefined size while training. It also provides other utilities like shuffling and random sampling of the data."
   ],
   "cell_type": "markdown",
   "metadata": {}
  },
  {
   "cell_type": "code",
   "execution_count": 58,
   "metadata": {},
   "outputs": [],
   "source": [
    "from torch.utils.data import DataLoader"
   ]
  },
  {
   "cell_type": "code",
   "execution_count": 59,
   "metadata": {},
   "outputs": [],
   "source": [
    "# Define data loader\n",
    "# Batch sizes more important with lots of data\n",
    "\n",
    "batch_size = 10 # 20% of dataset\n",
    "train_dl = DataLoader(train_ds, batch_size, shuffle=True)"
   ]
  },
  {
   "cell_type": "code",
   "execution_count": 60,
   "metadata": {},
   "outputs": [
    {
     "output_type": "stream",
     "name": "stdout",
     "text": [
      "tensor([[ 14.,  55.,  47.],\n        [ 12., 133.,  50.],\n        [ 20.,  97.,  54.],\n        [ 15., 130.,  41.],\n        [ 43.,  47.,  59.],\n        [ 43., 123.,  46.],\n        [ 20.,  52.,  63.],\n        [ 24., 109.,  42.],\n        [ 38.,  80.,  58.],\n        [ 44.,  64.,  37.]])\ntensor([[ 56.,  83.],\n        [ 89.,  35.],\n        [ 46.,  42.],\n        [ 63.,  94.],\n        [109.,  84.],\n        [ 43., 136.],\n        [ 27.,  75.],\n        [ 86., 117.],\n        [113.,  43.],\n        [ 38., 120.]])\n"
     ]
    }
   ],
   "source": [
    "# To view each batch (& verify size and shuffled)\n",
    "for xb, yb in train_dl:\n",
    "    print(xb)\n",
    "    print(yb)\n",
    "    break"
   ]
  },
  {
   "source": [
    "#### nn.Linear\n",
    "Instead of initializing the weights & biases manually, we can define the model using the nn.Linear class from PyTorch, which does it automatically."
   ],
   "cell_type": "markdown",
   "metadata": {}
  },
  {
   "cell_type": "code",
   "execution_count": 61,
   "metadata": {},
   "outputs": [
    {
     "output_type": "stream",
     "name": "stdout",
     "text": [
      "Parameter containing:\ntensor([[-0.3902, -0.3410, -0.1206],\n        [-0.0979, -0.0052, -0.3672]], requires_grad=True)\nParameter containing:\ntensor([0.4604, 0.5738], requires_grad=True)\n"
     ]
    }
   ],
   "source": [
    "# Define model --> nn.Linear(input, output)\n",
    "\n",
    "model = nn.Linear(3, 2) # 3 features (weights), 2 outputs (intercepts)\n",
    "print(model.weight)\n",
    "print(model.bias)"
   ]
  },
  {
   "cell_type": "code",
   "execution_count": 62,
   "metadata": {},
   "outputs": [
    {
     "output_type": "execute_result",
     "data": {
      "text/plain": [
       "[Parameter containing:\n",
       " tensor([[-0.3902, -0.3410, -0.1206],\n",
       "         [-0.0979, -0.0052, -0.3672]], requires_grad=True),\n",
       " Parameter containing:\n",
       " tensor([0.4604, 0.5738], requires_grad=True)]"
      ]
     },
     "metadata": {},
     "execution_count": 62
    }
   ],
   "source": [
    "# Parameters\n",
    "list(model.parameters())"
   ]
  },
  {
   "cell_type": "code",
   "execution_count": 63,
   "metadata": {},
   "outputs": [
    {
     "output_type": "execute_result",
     "data": {
      "text/plain": [
       "tensor([[-60.0991, -19.9202],\n",
       "        [-52.3889, -24.2774],\n",
       "        [-50.4622, -25.5275],\n",
       "        [-37.6653, -22.3210],\n",
       "        [-39.6127, -15.6857]], grad_fn=<SliceBackward>)"
      ]
     },
     "metadata": {},
     "execution_count": 63
    }
   ],
   "source": [
    "# Generate predictions\n",
    "# Still bad\n",
    "preds = model(inputs)\n",
    "preds[:5]"
   ]
  },
  {
   "source": [
    "#### Loss Function\n",
    "Instead of defining a loss function manually, we can use the built-in loss function mse_loss."
   ],
   "cell_type": "markdown",
   "metadata": {}
  },
  {
   "cell_type": "code",
   "execution_count": 64,
   "metadata": {},
   "outputs": [],
   "source": [
    "# Import nn.functional - similar to sklearn metrics or utils\n",
    "import torch.nn.functional as F"
   ]
  },
  {
   "cell_type": "code",
   "execution_count": 65,
   "metadata": {},
   "outputs": [
    {
     "output_type": "stream",
     "name": "stdout",
     "text": [
      "tensor(13823.3037, grad_fn=<MseLossBackward>)\ntorch.float32\n"
     ]
    }
   ],
   "source": [
    "# Get loss - save as a variable\n",
    "loss_fn = F.mse_loss\n",
    "loss = loss_fn(model(inputs), targets).type(torch.FloatTensor)\n",
    "print(loss)\n",
    "print(loss.dtype)"
   ]
  },
  {
   "source": [
    "#### Optimizer\n",
    "Instead of manually manipulating the model's weights & biases using gradients, we can use the optimizer `optim.SGD`. SGD is short for \"stochastic gradient descent\". The term stochastic indicates that samples are selected in random batches instead of as a single group."
   ],
   "cell_type": "markdown",
   "metadata": {}
  },
  {
   "cell_type": "code",
   "execution_count": 66,
   "metadata": {},
   "outputs": [],
   "source": [
    "# Define optimizer\n",
    "opt = torch.optim.SGD(model.parameters(), lr=1e-5)"
   ]
  },
  {
   "source": [
    "Note that `model.parameters()` is passed as an argument to `optim.SGD` so that the optimizer knows which matrices should be modified during the update step. Also, we can specify a learning rate that controls the amount by which the parameters are modified."
   ],
   "cell_type": "markdown",
   "metadata": {}
  },
  {
   "source": [
    "### Train the model\n",
    "We are now ready to train the model. We'll follow the same process as above to implement gradient descent\n",
    "\n",
    "\n",
    "The only change is that we'll work batches of data instead of processing the entire training data in every iteration. Let's define a utility function fit that trains the model for a given number of epochs."
   ],
   "cell_type": "markdown",
   "metadata": {}
  },
  {
   "cell_type": "code",
   "execution_count": 67,
   "metadata": {},
   "outputs": [],
   "source": [
    "# Utility function to train the model\n",
    "def fit(num_epochs, model, loss_fn, opt, train_dl):\n",
    "    \n",
    "    # Repeat for given number of epochs\n",
    "    for epoch in range(num_epochs):\n",
    "        \n",
    "        # Train with batches of data\n",
    "        for xb,yb in train_dl:\n",
    "            \n",
    "            # 1. Generate predictions\n",
    "            pred = model(xb)\n",
    "            \n",
    "            # 2. Calculate loss\n",
    "            loss = loss_fn(pred, yb)\n",
    "            loss = loss.type(torch.FloatTensor)\n",
    "            \n",
    "            # 3. Compute gradients\n",
    "            loss.backward()\n",
    "            \n",
    "            # 4. Update parameters using gradients\n",
    "            opt.step()\n",
    "            \n",
    "            # 5. Reset the gradients to zero\n",
    "            opt.zero_grad()\n",
    "        \n",
    "        # Print the progress\n",
    "        if (epoch+1) % 10 == 0:\n",
    "            print('Epoch [{}/{}], Loss: {:.4f}'.format(epoch+1, num_epochs, loss.item()))"
   ]
  },
  {
   "cell_type": "code",
   "execution_count": 74,
   "metadata": {},
   "outputs": [
    {
     "output_type": "stream",
     "name": "stdout",
     "text": [
      "Epoch [10/100], Loss: 1312.9205\nEpoch [20/100], Loss: 1765.7009\nEpoch [30/100], Loss: 800.1871\nEpoch [40/100], Loss: 1184.6575\nEpoch [50/100], Loss: 1390.1193\nEpoch [60/100], Loss: 1565.3336\nEpoch [70/100], Loss: 1093.3812\nEpoch [80/100], Loss: 1469.9753\nEpoch [90/100], Loss: 1635.4625\nEpoch [100/100], Loss: 1441.4415\n"
     ]
    }
   ],
   "source": [
    "fit(100, model, loss_fn, opt, train_dl)"
   ]
  },
  {
   "cell_type": "code",
   "execution_count": 75,
   "metadata": {},
   "outputs": [
    {
     "output_type": "execute_result",
     "data": {
      "text/plain": [
       "tensor([[81.9067, 93.0223],\n",
       "        [76.4611, 91.6100],\n",
       "        [75.1759, 90.7977],\n",
       "        [58.4788, 67.5909],\n",
       "        [55.7836, 56.7058]], grad_fn=<SliceBackward>)"
      ]
     },
     "metadata": {},
     "execution_count": 75
    }
   ],
   "source": [
    "# Generate predictions\n",
    "preds = model(inputs)\n",
    "preds[:5]"
   ]
  },
  {
   "cell_type": "code",
   "execution_count": 76,
   "metadata": {},
   "outputs": [
    {
     "output_type": "execute_result",
     "data": {
      "text/plain": [
       "tensor([[ 93.,  53.],\n",
       "        [ 37.,  75.],\n",
       "        [ 54.,  66.],\n",
       "        [106.,  80.],\n",
       "        [ 94.,  63.]])"
      ]
     },
     "metadata": {},
     "execution_count": 76
    }
   ],
   "source": [
    "# Compare with targets\n",
    "targets[:5]"
   ]
  },
  {
   "cell_type": "code",
   "execution_count": null,
   "metadata": {},
   "outputs": [],
   "source": []
  }
 ]
}